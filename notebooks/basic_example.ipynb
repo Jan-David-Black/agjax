{
 "cells": [
  {
   "cell_type": "markdown",
   "id": "9db26c05",
   "metadata": {},
   "source": [
    "# Basic example\n",
    "This notebook executes the basic examples in the agjax project readme."
   ]
  },
  {
   "cell_type": "code",
   "execution_count": 4,
   "id": "569d8e4d",
   "metadata": {},
   "outputs": [],
   "source": [
    "import functools\n",
    "import autograd.numpy as npa\n",
    "import jax\n",
    "\n",
    "import agjax"
   ]
  },
  {
   "cell_type": "markdown",
   "id": "24e9f8c1",
   "metadata": {},
   "source": [
    "Define a basic function using autograd, wrap it, and use jax to compute the gradient."
   ]
  },
  {
   "cell_type": "code",
   "execution_count": 14,
   "id": "8a6f7bc9",
   "metadata": {},
   "outputs": [
    {
     "name": "stdout",
     "output_type": "stream",
     "text": [
      "grad = (Array(1., dtype=float32), Array(0., dtype=float32))\n"
     ]
    }
   ],
   "source": [
    "@agjax.wrap_for_jax\n",
    "def fn(x, y):\n",
    "  return x * npa.cos(y)\n",
    "\n",
    "grad = jax.grad(fn, argnums=(0,  1))(1.0, 0.0)\n",
    "print(f\"grad = {grad}\")"
   ]
  },
  {
   "cell_type": "markdown",
   "id": "98221121",
   "metadata": {},
   "source": [
    "Define a function that has a nondifferentiable argument and output (both with string type), and compute the value and gradient."
   ]
  },
  {
   "cell_type": "code",
   "execution_count": 13,
   "id": "23469727",
   "metadata": {},
   "outputs": [
    {
     "name": "stdout",
     "output_type": "stream",
     "text": [
      "value = 1.0\n",
      "  aux = testtest\n",
      " grad = (Array(1., dtype=float32), Array(0., dtype=float32))\n"
     ]
    }
   ],
   "source": [
    "@functools.partial(\n",
    "  agjax.wrap_for_jax, nondiff_argnums=(2,), nondiff_outputnums=(1,)\n",
    ")\n",
    "def fn(x, y, string_arg):\n",
    "  return x * npa.cos(y), string_arg * 2\n",
    "\n",
    "(value, aux), grad = jax.value_and_grad(\n",
    "  fn,\n",
    "  argnums=(0, 1),\n",
    "  has_aux=True,\n",
    ")(1.0, 0.0, \"test\")\n",
    "\n",
    "print(f\"value = {value}\")\n",
    "print(f\"  aux = {aux}\")\n",
    "print(f\" grad = {grad}\")"
   ]
  }
 ],
 "metadata": {
  "kernelspec": {
   "display_name": "Python 3 (ipykernel)",
   "language": "python",
   "name": "python3"
  },
  "language_info": {
   "codemirror_mode": {
    "name": "ipython",
    "version": 3
   },
   "file_extension": ".py",
   "mimetype": "text/x-python",
   "name": "python",
   "nbconvert_exporter": "python",
   "pygments_lexer": "ipython3",
   "version": "3.9.16"
  }
 },
 "nbformat": 4,
 "nbformat_minor": 5
}
